{
  "nbformat": 4,
  "nbformat_minor": 0,
  "metadata": {
    "colab": {
      "provenance": []
    },
    "kernelspec": {
      "name": "python3",
      "display_name": "Python 3"
    },
    "language_info": {
      "name": "python"
    },
    "accelerator": "GPU",
    "gpuClass": "standard"
  },
  "cells": [
    {
      "cell_type": "code",
      "source": [
        "! gdown --id 1tO13aN1nnJqupL-JkydxBg7H5ET4y0HM"
      ],
      "metadata": {
        "colab": {
          "base_uri": "https://localhost:8080/"
        },
        "id": "9bvQPubCZ7JQ",
        "outputId": "ac12b895-ed99-48d3-9d5e-ac423f94c20a"
      },
      "execution_count": null,
      "outputs": [
        {
          "output_type": "stream",
          "name": "stdout",
          "text": [
            "/usr/local/lib/python3.9/dist-packages/gdown/cli.py:121: FutureWarning: Option `--id` was deprecated in version 4.3.1 and will be removed in 5.0. You don't need to pass it anymore to use a file ID.\n",
            "  warnings.warn(\n",
            "Downloading...\n",
            "From: https://drive.google.com/uc?id=1tO13aN1nnJqupL-JkydxBg7H5ET4y0HM\n",
            "To: /content/yelp_reviews_gen.csv\n",
            "100% 4.67G/4.67G [00:32<00:00, 145MB/s]\n"
          ]
        }
      ]
    },
    {
      "cell_type": "code",
      "execution_count": null,
      "metadata": {
        "id": "QAOu12P9K4lg"
      },
      "outputs": [],
      "source": [
        "import torch\n",
        "import torch.nn as nn\n",
        "import torch.nn.functional as F\n",
        "import torch.optim as optim\n",
        "import gensim\n",
        "import matplotlib.pyplot as plt \n",
        "import pandas as pd"
      ]
    },
    {
      "cell_type": "code",
      "source": [
        "# Use cuda if present\n",
        "device = torch.device(\"cuda\")\n",
        "print(\"Device available for running: \",device)"
      ],
      "metadata": {
        "colab": {
          "base_uri": "https://localhost:8080/"
        },
        "id": "YtDGmCXeNex-",
        "outputId": "1c9de4f9-c8b9-4804-f8e5-6050f8ffda95"
      },
      "execution_count": null,
      "outputs": [
        {
          "output_type": "stream",
          "name": "stdout",
          "text": [
            "Device available for running:  cuda\n"
          ]
        }
      ]
    },
    {
      "cell_type": "code",
      "source": [
        "DATASET_CSV_PATH = './yelp_reviews_gen.csv'\n",
        "OUTPUT_FOLDER = './OpData'\n",
        "top_data_df = pd.read_csv(DATASET_CSV_PATH)"
      ],
      "metadata": {
        "id": "U3me9HZBOg9v"
      },
      "execution_count": null,
      "outputs": []
    },
    {
      "cell_type": "code",
      "source": [
        "# Function to map stars to sentiment\n",
        "def map_sentiment(stars_received):\n",
        "    if stars_received <= 3:\n",
        "        return -1\n",
        "    else:\n",
        "        return 1\n",
        "\n",
        "# Mapping stars to sentiment into three categories\n",
        "top_data_df['sentiment'] = [ map_sentiment(x) for x in top_data_df['stars']]"
      ],
      "metadata": {
        "id": "I9YaVCz_PMC_"
      },
      "execution_count": null,
      "outputs": []
    },
    {
      "cell_type": "code",
      "source": [
        "# Function to retrieve top few number of each category\n",
        "def get_top_data(top_n = 5000):\n",
        "    top_data_df_positive = top_data_df[top_data_df['sentiment'] == 1].head(top_n)\n",
        "    # top_data_df_negative = top_data_df[top_data_df['sentiment'] == -1].head(top_n)\n",
        "    top_data_df_neutral = top_data_df[top_data_df['sentiment'] == -1].head(top_n)\n",
        "    top_data_df_small = pd.concat([top_data_df_positive, top_data_df_neutral])\n",
        "    return top_data_df_small\n",
        "\n",
        "# Function call to get the top 10000 from each sentiment\n",
        "top_data_df_small = get_top_data(top_n=10000)"
      ],
      "metadata": {
        "id": "gmOFdKA8PzpK"
      },
      "execution_count": null,
      "outputs": []
    },
    {
      "cell_type": "code",
      "source": [
        "#Simple Preprocessing of data\n",
        "\n",
        "from gensim.utils import simple_preprocess\n",
        "from gensim.parsing.porter import PorterStemmer\n",
        "\n",
        "# Tokenize the text column to get the new column 'tokenized_text'\n",
        "top_data_df_small['tokenized_text'] = [simple_preprocess(line, deacc=True) for line in top_data_df_small['text']] \n",
        "\n",
        "# Get the stemmed_tokens\n",
        "porter_stemmer = PorterStemmer()\n",
        "top_data_df_small['stemmed_tokens'] = [[porter_stemmer.stem(word) for word in tokens] for tokens in top_data_df_small['tokenized_text'] ]\n"
      ],
      "metadata": {
        "id": "MjT48lsDQNwZ"
      },
      "execution_count": null,
      "outputs": []
    },
    {
      "cell_type": "code",
      "source": [
        "# Splitting into Train and Test Sets\n",
        "\n",
        "from sklearn.model_selection import train_test_split\n",
        "\n",
        "# Train Test Split Function\n",
        "def split_train_test(top_data_df_small, test_size=0.3, shuffle_state=True):\n",
        "    X_train, X_test, Y_train, Y_test = train_test_split(top_data_df_small[['business_id', 'cool', 'date', 'funny', 'review_id', 'stars', 'text', 'useful', 'user_id', 'stemmed_tokens']], \n",
        "                                                        top_data_df_small['sentiment'], \n",
        "                                                        shuffle=shuffle_state,\n",
        "                                                        test_size=test_size, \n",
        "                                                        random_state=15)\n",
        "    print(\"Value counts for Train sentiments\")\n",
        "    print(Y_train.value_counts())\n",
        "    print(\"Value counts for Test sentiments\")\n",
        "    print(Y_test.value_counts())\n",
        "    print(type(X_train))\n",
        "    print(type(Y_train))\n",
        "    X_train = X_train.reset_index()\n",
        "    X_test = X_test.reset_index()\n",
        "    Y_train = Y_train.to_frame()\n",
        "    Y_train = Y_train.reset_index()\n",
        "    Y_test = Y_test.to_frame()\n",
        "    Y_test = Y_test.reset_index()\n",
        "    print(X_train.head())\n",
        "    return X_train, X_test, Y_train, Y_test\n",
        "\n",
        "# Call the train_test_split\n",
        "X_train, X_test, Y_train, Y_test = split_train_test(top_data_df_small)"
      ],
      "metadata": {
        "colab": {
          "base_uri": "https://localhost:8080/"
        },
        "id": "1hthzG5RROSf",
        "outputId": "8fe5304d-bf86-40bd-bc52-b5804286557d"
      },
      "execution_count": null,
      "outputs": [
        {
          "output_type": "stream",
          "name": "stdout",
          "text": [
            "Value counts for Train sentiments\n",
            " 1    7005\n",
            "-1    6995\n",
            "Name: sentiment, dtype: int64\n",
            "Value counts for Test sentiments\n",
            "-1    3005\n",
            " 1    2995\n",
            "Name: sentiment, dtype: int64\n",
            "<class 'pandas.core.frame.DataFrame'>\n",
            "<class 'pandas.core.series.Series'>\n",
            "   index             business_id  cool                 date  funny  \\\n",
            "0  22876  _cndcbuaqSRW5f-MeZasNw   0.0  2016-05-20 18:52:45    0.0   \n",
            "1  20123  uFF40n9pOqHK1ciajdoSEw   1.0  2011-07-01 03:44:45    0.0   \n",
            "2  18063  YisnHfR8rvlYFNtauQF14w   0.0  2016-08-05 12:21:51    0.0   \n",
            "3    546  4WdDY97x4GdMYtyk1KQMnw   0.0  2013-11-14 01:20:24    1.0   \n",
            "4   6079  6ZUERrfjvr7HGOB6uwFLZQ   0.0  2013-10-24 11:07:55    0.0   \n",
            "\n",
            "                review_id  stars  \\\n",
            "0  S1AEveqyNQ7upnoKe6R4Mw    1.0   \n",
            "1  2K-CXKsz8vFzAEQBQ6e9lw    3.0   \n",
            "2  c_Iy6yFpJzQqCsYb5IX-rw    3.0   \n",
            "3  abKghvZEZue9xTHBRpZFAw    4.0   \n",
            "4  HZP700rUc8OdapSAZMBrdA    2.0   \n",
            "\n",
            "                                                text  useful  \\\n",
            "0  Came here last week for my wife and  I's 3rd w...     1.0   \n",
            "1  Food is ok. They had good Italian sandwiches. ...     1.0   \n",
            "2  Ate there last night with the family. They did...     1.0   \n",
            "3  Again for those that see my review I only give...     1.0   \n",
            "4  This hotel was gross. There was a stinky cigar...     0.0   \n",
            "\n",
            "                  user_id                                     stemmed_tokens  \n",
            "0  7GVfxscSxsJ9E6IsEzh1bQ  [came, here, last, week, for, my, wife, and, r...  \n",
            "1  DvWM62NWf2MV1EpN7T8S1A  [food, is, ok, thei, had, good, italian, sandw...  \n",
            "2  iG45KccScyqvhKvC74TBNg  [at, there, last, night, with, the, famili, th...  \n",
            "3  mLtqw04f9aYwz35NPU2j3Q  [again, for, those, that, see, my, review, onl...  \n",
            "4  37pz7BP6RUn8dV5Cv4PoWA  [thi, hotel, wa, gross, there, wa, stinki, cig...  \n"
          ]
        }
      ]
    },
    {
      "cell_type": "code",
      "source": [
        "from gensim.models import Word2Vec\n",
        "size = 500\n",
        "window = 3\n",
        "min_count = 1\n",
        "workers = 3\n",
        "sg = 1\n",
        "NUM_CLASSES = 2\n",
        "\n",
        "# Function to train word2vec model\n",
        "def make_word2vec_model(top_data_df_small, padding=True, sg=1, min_count=1, size=500, workers=3, window=3):\n",
        "    if  padding:\n",
        "        print(len(top_data_df_small))\n",
        "        temp_df = pd.Series(top_data_df_small['stemmed_tokens']).values\n",
        "        temp_df = list(temp_df)\n",
        "        temp_df.append(['pad'])\n",
        "        word2vec_file = OUTPUT_FOLDER + '/models/'+'word2vec_' + str(size) + '_PAD.model'\n",
        "    else:\n",
        "        temp_df = top_data_df_small['stemmed_tokens']\n",
        "        word2vec_file = OUTPUT_FOLDER + '/models/' + 'word2vec_' + str(size) + '.model'\n",
        "    w2v_model = Word2Vec(temp_df, min_count = min_count, vector_size=size, workers = workers, window = window, sg = sg)\n",
        "\n",
        "    w2v_model.save(word2vec_file)\n",
        "    return w2v_model, word2vec_file\n",
        "\n",
        "# Train Word2vec model\n",
        "w2vmodel, word2vec_file = make_word2vec_model(top_data_df_small, padding=True, sg=sg, min_count=min_count, size=size, workers=workers, window=window)"
      ],
      "metadata": {
        "colab": {
          "base_uri": "https://localhost:8080/"
        },
        "id": "iiSn05GrTnp_",
        "outputId": "6c8eaac8-ae4c-400e-976a-b806c672b76c"
      },
      "execution_count": 89,
      "outputs": [
        {
          "output_type": "stream",
          "name": "stdout",
          "text": [
            "20000\n"
          ]
        }
      ]
    },
    {
      "cell_type": "code",
      "source": [
        "max_sen_len = top_data_df_small.stemmed_tokens.map(len).max()\n",
        "padding_idx = w2vmodel.wv.key_to_index['pad']\n",
        "def make_word2vec_vector_lstm(sentence):\n",
        "    padded_X = [padding_idx for i in range(max_sen_len)]\n",
        "    i = 0\n",
        "    for word in sentence:\n",
        "        if word not in w2vmodel.wv.key_to_index:\n",
        "            padded_X[i] = 0\n",
        "            print(word)\n",
        "        else:\n",
        "            padded_X[i] = w2vmodel.wv.key_to_index[word]\n",
        "        i += 1\n",
        "    return torch.tensor(padded_X, dtype=torch.long, device=device).view(1, -1)"
      ],
      "metadata": {
        "id": "kod2MRP5efMN"
      },
      "execution_count": 90,
      "outputs": []
    },
    {
      "cell_type": "code",
      "source": [
        "# Function to get the output tensor\n",
        "def make_target(label):\n",
        "    if label == 0:\n",
        "        return torch.tensor([0], dtype=torch.long, device=device)\n",
        "    else:\n",
        "        return torch.tensor([1], dtype=torch.long, device=device)"
      ],
      "metadata": {
        "id": "-QcRSve832wI"
      },
      "execution_count": 91,
      "outputs": []
    },
    {
      "cell_type": "code",
      "source": [
        "batch_size = 50\n",
        "class SentimentAnalysisLSTM(torch.nn.Module) :\n",
        "    def __init__(self, vocab_size, embedding_dim, hidden_dim, dropout) :\n",
        "        super().__init__()\n",
        "\n",
        "        w2vmodel = gensim.models.KeyedVectors.load(OUTPUT_FOLDER + '/models/' + 'word2vec_500_PAD.model')\n",
        "        weights = w2vmodel.wv\n",
        "\n",
        "        # The embedding layer takes the vocab size and the embeddings size as input\n",
        "        # self.embedding = nn.Embedding(vocab_size, embedding_dim, padding_idx=0)\n",
        "        # Pretrained embeddings\n",
        "        self.embedding = nn.Embedding.from_pretrained(torch.FloatTensor(weights.vectors), padding_idx=w2vmodel.wv.key_to_index['pad'])\n",
        "\n",
        "        # The LSTM layer takes in the the embedding size and the hidden vector size.\n",
        "        self.lstm = nn.LSTM(embedding_dim, hidden_dim, batch_first=True)\n",
        "\n",
        "        # We use dropout before the final layer to improve with regularization\n",
        "        # self.dropout = nn.Dropout(dropout)\n",
        "        self.relu = nn.ReLU()\n",
        "        # The fully-connected layer takes in the hidden dim of the LSTM and\n",
        "        #  outputs a a 3x1 vector of the class scores.\n",
        "        self.fc = nn.Linear(hidden_dim, NUM_CLASSES) \n",
        "        \n",
        "\n",
        "\n",
        "    def forward(self, x, hidden):\n",
        "        # The input is transformed to embeddings by passing it to the embedding layer\n",
        "        embs = self.embedding(x)\n",
        "\n",
        "        # The embedded inputs are fed to the LSTM alongside the previous hidden state\n",
        "        out, hidden = self.lstm(embs, hidden)\n",
        "\n",
        "        # Dropout is applied to the output and fed to the FC layer\n",
        "        # out = self.dropout(out)\n",
        "        out = self.fc(out)\n",
        "        out = self.relu(out)\n",
        "        # We extract the scores for the final hidden state since it is the one that matters.\n",
        "        out = out[:, -1]\n",
        "        return out, hidden\n",
        "    \n",
        "    def init_hidden(self):\n",
        "        return (torch.zeros(1, 1, 32), torch.zeros(1, 1, 32))"
      ],
      "metadata": {
        "id": "DW3cYUr4dZYS"
      },
      "execution_count": 92,
      "outputs": []
    },
    {
      "cell_type": "code",
      "source": [
        "vocab_len = len(w2vmodel.wv)\n",
        "\n",
        "lstm_model = SentimentAnalysisLSTM(vocab_size=vocab_len, embedding_dim = 500, hidden_dim = 32, dropout=0.3)\n",
        "lstm_model.to(device)\n",
        "loss_function = nn.CrossEntropyLoss()\n",
        "optimizer = optim.Adam(lstm_model.parameters(), lr=0.001)\n",
        "num_epochs = 10\n",
        "\n",
        "# Open the file for writing loss\n",
        "loss_file_name = OUTPUT_FOLDER +  '/plots/' + 'lstm3_class_big_loss_with_padding.csv'\n",
        "f = open(loss_file_name,'w')\n",
        "f.write('iter, loss')\n",
        "f.write('\\n')\n",
        "losses = []\n",
        "lstm_model.train()\n",
        "for epoch in range(num_epochs):\n",
        "    print(\"Epoch\" + str(epoch + 1))\n",
        "    train_loss = 0\n",
        "    h0, c0 =  lstm_model.init_hidden()\n",
        "\n",
        "    h0 = h0.to(device)\n",
        "    c0 = c0.to(device)\n",
        "    for index, row in X_train.iterrows():\n",
        "        # input = row[0].to(device)\n",
        "        # target = row[1].to(device)\n",
        "\n",
        "        # Make the bag of words vector for stemmed tokens \n",
        "        input = make_word2vec_vector_lstm(row['stemmed_tokens'])\n",
        "        # Get the target label\n",
        "        target = make_target(Y_train['sentiment'][index])\n",
        "\n",
        "        optimizer.zero_grad()\n",
        "        with torch.set_grad_enabled(True):\n",
        "            out, hidden = lstm_model(input, (h0, c0))\n",
        "            loss = loss_function(out, target)\n",
        "            train_loss += loss.item()\n",
        "            loss.backward()\n",
        "            optimizer.step()\n",
        "    losses.append(loss.item())\n",
        "\n",
        "\n",
        "    # if index == 0:\n",
        "    #     continue\n",
        "    print(\"Epoch ran :\"+ str(epoch+1))\n",
        "    f.write(str((epoch+1)) + \",\" + str(train_loss / len(X_train)))\n",
        "    f.write('\\n')\n",
        "    train_loss = 0\n",
        "\n",
        "torch.save(lstm_model, OUTPUT_FOLDER +'/'+'lstm3_big_model_500_with_padding.pth')\n",
        "\n",
        "f.close()\n",
        "print(\"Input vector\")\n",
        "print(input.cpu().numpy())\n",
        "print(\"Output vector\")\n",
        "print(out)\n",
        "print(torch.argmax(out, dim=1).cpu().numpy()[0])"
      ],
      "metadata": {
        "colab": {
          "base_uri": "https://localhost:8080/"
        },
        "id": "cVtjS2Ma7SSl",
        "outputId": "fbbfe5aa-0391-4e6d-aa7e-bb56b9b6f97a"
      },
      "execution_count": 93,
      "outputs": [
        {
          "output_type": "stream",
          "name": "stdout",
          "text": [
            "Epoch1\n",
            "Epoch ran :1\n",
            "Epoch2\n",
            "Epoch ran :2\n",
            "Epoch3\n",
            "Epoch ran :3\n",
            "Epoch4\n",
            "Epoch ran :4\n",
            "Epoch5\n",
            "Epoch ran :5\n",
            "Epoch6\n",
            "Epoch ran :6\n",
            "Epoch7\n",
            "Epoch ran :7\n",
            "Epoch8\n",
            "Epoch ran :8\n",
            "Epoch9\n",
            "Epoch ran :9\n",
            "Epoch10\n",
            "Epoch ran :10\n",
            "Input vector\n",
            "[[  247    43   251   180     0    33     2   170    46   345   746     1\n",
            "  12685   107   273    60     2  1729   107   270     2   841    36   662\n",
            "     32  2259  1619   203     1   265     3   178    48     0  1749   128\n",
            "     32     0   178   968   243    15   261     1   490   467  1231     0\n",
            "     34    22     0    78     7   210    30  5093  1149  1149  1149  1149\n",
            "   1149  1149  1149  1149  1149  1149  1149  1149  1149  1149  1149  1149\n",
            "   1149  1149  1149  1149  1149  1149  1149  1149  1149  1149  1149  1149\n",
            "   1149  1149  1149  1149  1149  1149  1149  1149  1149  1149  1149  1149\n",
            "   1149  1149  1149  1149  1149  1149  1149  1149  1149  1149  1149  1149\n",
            "   1149  1149  1149  1149  1149  1149  1149  1149  1149  1149  1149  1149\n",
            "   1149  1149  1149  1149  1149  1149  1149  1149  1149  1149  1149  1149\n",
            "   1149  1149  1149  1149  1149  1149  1149  1149  1149  1149  1149  1149\n",
            "   1149  1149  1149  1149  1149  1149  1149  1149  1149  1149  1149  1149\n",
            "   1149  1149  1149  1149  1149  1149  1149  1149  1149  1149  1149  1149\n",
            "   1149  1149  1149  1149  1149  1149  1149  1149  1149  1149  1149  1149\n",
            "   1149  1149  1149  1149  1149  1149  1149  1149  1149  1149  1149  1149\n",
            "   1149  1149  1149  1149  1149  1149  1149  1149  1149  1149  1149  1149\n",
            "   1149  1149  1149  1149  1149  1149  1149  1149  1149  1149  1149  1149\n",
            "   1149  1149  1149  1149  1149  1149  1149  1149  1149  1149  1149  1149\n",
            "   1149  1149  1149  1149  1149  1149  1149  1149  1149  1149  1149  1149\n",
            "   1149  1149  1149  1149  1149  1149  1149  1149  1149  1149  1149  1149\n",
            "   1149  1149  1149  1149  1149  1149  1149  1149  1149  1149  1149  1149\n",
            "   1149  1149  1149  1149  1149  1149  1149  1149  1149  1149  1149  1149\n",
            "   1149  1149  1149  1149  1149  1149  1149  1149  1149  1149  1149  1149\n",
            "   1149  1149  1149  1149  1149  1149  1149  1149  1149  1149  1149  1149\n",
            "   1149  1149  1149  1149  1149  1149  1149  1149  1149  1149  1149  1149\n",
            "   1149  1149  1149  1149  1149  1149  1149  1149  1149  1149  1149  1149\n",
            "   1149  1149  1149  1149  1149  1149  1149  1149  1149  1149  1149  1149\n",
            "   1149  1149  1149  1149  1149  1149  1149  1149  1149  1149  1149  1149\n",
            "   1149  1149  1149  1149  1149  1149  1149  1149  1149  1149  1149  1149\n",
            "   1149  1149  1149  1149  1149  1149  1149  1149  1149  1149  1149  1149\n",
            "   1149  1149  1149  1149  1149  1149  1149  1149  1149  1149  1149  1149\n",
            "   1149  1149  1149  1149  1149  1149  1149  1149  1149  1149  1149  1149\n",
            "   1149  1149  1149  1149  1149  1149  1149  1149  1149  1149  1149  1149\n",
            "   1149  1149  1149  1149  1149  1149  1149  1149  1149  1149  1149  1149\n",
            "   1149  1149  1149  1149  1149  1149  1149  1149  1149  1149  1149  1149\n",
            "   1149  1149  1149  1149  1149  1149  1149  1149  1149  1149  1149  1149\n",
            "   1149  1149  1149  1149  1149  1149  1149  1149  1149  1149  1149  1149\n",
            "   1149  1149  1149  1149  1149  1149  1149  1149  1149  1149  1149  1149\n",
            "   1149  1149  1149  1149  1149  1149  1149  1149  1149  1149  1149  1149\n",
            "   1149  1149  1149  1149  1149  1149  1149  1149  1149  1149  1149  1149\n",
            "   1149  1149  1149  1149  1149  1149  1149  1149  1149  1149  1149  1149\n",
            "   1149  1149  1149  1149  1149  1149  1149  1149  1149  1149  1149  1149\n",
            "   1149  1149  1149  1149  1149  1149  1149  1149  1149  1149  1149  1149\n",
            "   1149  1149  1149  1149  1149  1149  1149  1149  1149  1149  1149  1149\n",
            "   1149  1149  1149  1149  1149  1149  1149  1149  1149  1149  1149  1149\n",
            "   1149  1149  1149  1149  1149  1149  1149  1149  1149  1149  1149  1149\n",
            "   1149  1149  1149  1149  1149  1149  1149  1149  1149  1149  1149  1149\n",
            "   1149  1149  1149  1149  1149  1149  1149  1149  1149  1149  1149  1149\n",
            "   1149  1149  1149  1149  1149  1149  1149  1149  1149  1149  1149  1149\n",
            "   1149  1149  1149  1149  1149  1149  1149  1149  1149  1149  1149  1149\n",
            "   1149  1149  1149  1149  1149  1149  1149  1149  1149  1149  1149  1149\n",
            "   1149  1149  1149  1149  1149  1149  1149  1149  1149  1149  1149  1149\n",
            "   1149  1149  1149  1149  1149  1149  1149  1149  1149  1149  1149  1149\n",
            "   1149  1149  1149  1149  1149  1149  1149  1149  1149  1149  1149  1149\n",
            "   1149  1149  1149  1149  1149  1149  1149  1149  1149  1149  1149  1149\n",
            "   1149  1149  1149  1149  1149  1149  1149  1149  1149  1149  1149  1149\n",
            "   1149  1149  1149  1149  1149  1149  1149  1149  1149  1149  1149  1149\n",
            "   1149  1149  1149  1149  1149  1149  1149  1149  1149  1149  1149  1149\n",
            "   1149  1149  1149  1149  1149  1149  1149  1149  1149  1149  1149  1149\n",
            "   1149  1149  1149  1149  1149  1149  1149  1149  1149  1149  1149  1149\n",
            "   1149  1149  1149  1149  1149  1149  1149  1149  1149  1149  1149  1149\n",
            "   1149  1149  1149  1149  1149  1149  1149  1149  1149  1149  1149  1149\n",
            "   1149  1149  1149  1149  1149  1149  1149  1149  1149  1149  1149  1149\n",
            "   1149  1149  1149  1149  1149  1149  1149  1149  1149  1149  1149  1149\n",
            "   1149  1149  1149  1149  1149  1149  1149  1149  1149  1149  1149  1149\n",
            "   1149  1149  1149  1149  1149  1149  1149  1149  1149  1149  1149  1149\n",
            "   1149  1149  1149  1149  1149  1149  1149  1149  1149  1149  1149  1149\n",
            "   1149  1149  1149  1149  1149  1149  1149  1149  1149  1149  1149  1149\n",
            "   1149  1149  1149  1149  1149  1149  1149  1149  1149  1149  1149  1149\n",
            "   1149  1149  1149  1149  1149  1149  1149  1149  1149  1149  1149  1149\n",
            "   1149  1149  1149  1149  1149  1149  1149  1149  1149  1149  1149  1149\n",
            "   1149  1149  1149  1149  1149  1149  1149  1149  1149  1149  1149  1149\n",
            "   1149  1149  1149  1149  1149  1149  1149  1149  1149  1149  1149  1149\n",
            "   1149  1149  1149  1149  1149  1149  1149  1149  1149  1149  1149  1149\n",
            "   1149  1149  1149  1149  1149  1149  1149  1149  1149  1149  1149  1149\n",
            "   1149  1149  1149  1149  1149  1149  1149  1149  1149  1149  1149  1149\n",
            "   1149  1149  1149]]\n",
            "Output vector\n",
            "tensor([[ 0.0000, 16.6437]], device='cuda:0', grad_fn=<SelectBackward0>)\n",
            "1\n"
          ]
        }
      ]
    },
    {
      "cell_type": "code",
      "source": [
        "from sklearn.metrics import classification_report\n",
        "bow_lstm_predictions = []\n",
        "original_lables_cnn_bow = []\n",
        "lstm_model.eval()\n",
        "loss_df = pd.read_csv(OUTPUT_FOLDER + '/plots/'+'lstm3_class_big_loss_with_padding.csv')\n",
        "print(loss_df.columns)\n",
        "# loss_df.plot('loss')\n",
        "with torch.no_grad():\n",
        "    for index, row in X_test.iterrows():\n",
        "        bow_vec = make_word2vec_vector_lstm(row['stemmed_tokens'])\n",
        "        probs, hidden = lstm_model(bow_vec, (h0, c0))\n",
        "        _, predicted = torch.max(probs.data, 1)\n",
        "        bow_lstm_predictions.append(predicted.cpu().numpy()[0])\n",
        "        original_lables_cnn_bow.append(make_target(Y_test['sentiment'][index]).cpu().numpy()[0])\n",
        "print(classification_report(original_lables_cnn_bow,bow_lstm_predictions))\n",
        "loss_file_name = OUTPUT_FOLDER +  '/plots/' + 'lstm3_class_big_loss_with_padding.csv'\n",
        "loss_df = pd.read_csv(loss_file_name)\n",
        "print(loss_df.columns)\n",
        "plt_500_padding_30_epochs = loss_df[' loss'].plot()\n",
        "fig = plt_500_padding_30_epochs.get_figure()\n",
        "fig.savefig(OUTPUT_FOLDER +'/plots/' + 'loss_plt_500_padding_30_epochs.pdf')\n"
      ],
      "metadata": {
        "colab": {
          "base_uri": "https://localhost:8080/",
          "height": 609
        },
        "id": "fsoxP2ej9NzU",
        "outputId": "fa34fc6f-a5c3-40fe-82f5-0da12531d95c"
      },
      "execution_count": 94,
      "outputs": [
        {
          "output_type": "stream",
          "name": "stdout",
          "text": [
            "Index(['iter', ' loss'], dtype='object')\n",
            "              precision    recall  f1-score   support\n",
            "\n",
            "           1       1.00      1.00      1.00      6000\n",
            "\n",
            "    accuracy                           1.00      6000\n",
            "   macro avg       1.00      1.00      1.00      6000\n",
            "weighted avg       1.00      1.00      1.00      6000\n",
            "\n",
            "Index(['iter', ' loss'], dtype='object')\n"
          ]
        },
        {
          "output_type": "display_data",
          "data": {
            "text/plain": [
              "<Figure size 640x480 with 1 Axes>"
            ],
            "image/png": "[encoded data removed]"
          },
          "metadata": {}
        }
      ]
    }
  ]
}