{
  "nbformat": 4,
  "nbformat_minor": 0,
  "metadata": {
    "colab": {
      "provenance": []
    },
    "kernelspec": {
      "name": "python3",
      "display_name": "Python 3"
    },
    "language_info": {
      "name": "python"
    },
    "accelerator": "GPU",
    "gpuClass": "standard"
  },
  "cells": [
    {
      "cell_type": "code",
      "source": [
        "import torch\n",
        "import pandas as pd\n",
        "import matplotlib.pyplot as plt \n",
        "import torch.nn as nn\n",
        "import torch.nn.functional as F\n",
        "import torch.optim as optim\n",
        "import gensim\n",
        "\n",
        "INPUT_PATH = './yelp_academic_dataset_review.json'\n",
        "DATASET_CSV_PATH = './yelp_reviews_gen.csv'\n",
        "PATH_TO_YELP_REVIEWS = INPUT_PATH\n",
        "\n",
        "# Use cuda if present\n",
        "device = torch.device(\"cuda\")\n",
        "print(\"Device available for running: \")\n",
        "print(device)"
      ],
      "metadata": {
        "id": "Ulm-rupaW8Yw",
        "colab": {
          "base_uri": "https://localhost:8080/"
        },
        "outputId": "d3f8e265-1fa8-41b7-8e07-5e8b3cd77446"
      },
      "execution_count": 1,
      "outputs": [
        {
          "output_type": "stream",
          "name": "stdout",
          "text": [
            "Device available for running: \n",
            "cuda\n"
          ]
        }
      ]
    },
    {
      "cell_type": "code",
      "source": [
        "with open(PATH_TO_YELP_REVIEWS, 'r') as f:\n",
        "  chunks = pd.read_json(f, lines=True, chunksize = 100)\n",
        "  for c_data in chunks:\n",
        "    x = pd.DataFrame.from_dict(c_data)\n",
        "    x.to_csv ('yelp_reviews_gen.csv',  mode='a', index=False, header=False)"
      ],
      "metadata": {
        "id": "voj1HdVe9M9k"
      },
      "execution_count": null,
      "outputs": []
    },
    {
      "cell_type": "code",
      "source": [
        "from google.colab import files\n",
        "files.download('yelp_reviews_gen.csv') "
      ],
      "metadata": {
        "colab": {
          "base_uri": "https://localhost:8080/",
          "height": 34
        },
        "id": "L-xTwBqe3DT4",
        "outputId": "716964a9-860f-4b91-bc99-41a6937f427c"
      },
      "execution_count": null,
      "outputs": [
        {
          "output_type": "display_data",
          "data": {
            "text/plain": [
              "<IPython.core.display.Javascript object>"
            ],
            "application/javascript": [
              "\n",
              "    async function download(id, filename, size) {\n",
              "      if (!google.colab.kernel.accessAllowed) {\n",
              "        return;\n",
              "      }\n",
              "      const div = document.createElement('div');\n",
              "      const label = document.createElement('label');\n",
              "      label.textContent = `Downloading \"${filename}\": `;\n",
              "      div.appendChild(label);\n",
              "      const progress = document.createElement('progress');\n",
              "      progress.max = size;\n",
              "      div.appendChild(progress);\n",
              "      document.body.appendChild(div);\n",
              "\n",
              "      const buffers = [];\n",
              "      let downloaded = 0;\n",
              "\n",
              "      const channel = await google.colab.kernel.comms.open(id);\n",
              "      // Send a message to notify the kernel that we're ready.\n",
              "      channel.send({})\n",
              "\n",
              "      for await (const message of channel.messages) {\n",
              "        // Send a message to notify the kernel that we're ready.\n",
              "        channel.send({})\n",
              "        if (message.buffers) {\n",
              "          for (const buffer of message.buffers) {\n",
              "            buffers.push(buffer);\n",
              "            downloaded += buffer.byteLength;\n",
              "            progress.value = downloaded;\n",
              "          }\n",
              "        }\n",
              "      }\n",
              "      const blob = new Blob(buffers, {type: 'application/binary'});\n",
              "      const a = document.createElement('a');\n",
              "      a.href = window.URL.createObjectURL(blob);\n",
              "      a.download = filename;\n",
              "      div.appendChild(a);\n",
              "      a.click();\n",
              "      div.remove();\n",
              "    }\n",
              "  "
            ]
          },
          "metadata": {}
        },
        {
          "output_type": "display_data",
          "data": {
            "text/plain": [
              "<IPython.core.display.Javascript object>"
            ],
            "application/javascript": [
              "download(\"download_1e6b7132-8d22-46af-b5a3-26e0d4a585f2\", \"gen.csv\", 4667818862)"
            ]
          },
          "metadata": {}
        }
      ]
    },
    {
      "cell_type": "code",
      "source": [
        "! gdown --id 1tO13aN1nnJqupL-JkydxBg7H5ET4y0HM"
      ],
      "metadata": {
        "colab": {
          "base_uri": "https://localhost:8080/"
        },
        "id": "JFID2k1WwQHF",
        "outputId": "be518bf3-fd51-47fb-ee44-3a3323606c7b"
      },
      "execution_count": 3,
      "outputs": [
        {
          "output_type": "stream",
          "name": "stdout",
          "text": [
            "/usr/local/lib/python3.9/dist-packages/gdown/cli.py:121: FutureWarning: Option `--id` was deprecated in version 4.3.1 and will be removed in 5.0. You don't need to pass it anymore to use a file ID.\n",
            "  warnings.warn(\n",
            "Downloading...\n",
            "From: https://drive.google.com/uc?id=1tO13aN1nnJqupL-JkydxBg7H5ET4y0HM\n",
            "To: /content/yelp_reviews_gen.csv\n",
            "100% 4.67G/4.67G [00:36<00:00, 129MB/s]\n"
          ]
        }
      ]
    },
    {
      "cell_type": "code",
      "source": [
        "top_data_df = pd.read_csv(DATASET_CSV_PATH)\n",
        "print(\"Columns in the original dataset:\\n\")\n",
        "print(top_data_df.columns)"
      ],
      "metadata": {
        "colab": {
          "base_uri": "https://localhost:8080/"
        },
        "id": "GCCklw579IRG",
        "outputId": "ff36a92f-d4c9-432f-8e34-28a944a56b6e"
      },
      "execution_count": 4,
      "outputs": [
        {
          "output_type": "stream",
          "name": "stdout",
          "text": [
            "Columns in the original dataset:\n",
            "\n",
            "Index(['review_id', 'user_id', 'business_id', 'stars', 'useful', 'funny',\n",
            "       'cool', 'text', 'date'],\n",
            "      dtype='object')\n"
          ]
        }
      ]
    },
    {
      "cell_type": "code",
      "source": [
        "print(\"Number of rows per star rating:\")\n",
        "print(top_data_df['stars'].value_counts())\n",
        "\n",
        "# Function to map stars to sentiment\n",
        "def map_sentiment(stars_received):\n",
        "    if stars_received <= 2:\n",
        "        return -1\n",
        "    elif stars_received == 3:\n",
        "        return 0\n",
        "    else:\n",
        "        return 1\n",
        "# Mapping stars to sentiment into three categories\n",
        "top_data_df['sentiment'] = [ map_sentiment(x) for x in top_data_df['stars']]\n",
        "# Plotting the sentiment distribution\n",
        "plt.figure()\n",
        "pd.value_counts(top_data_df['sentiment']).plot.bar(title=\"Sentiment distribution in df\")\n",
        "plt.xlabel(\"Sentiment\")\n",
        "plt.ylabel(\"No. of rows in df\")\n",
        "plt.show()"
      ],
      "metadata": {
        "colab": {
          "base_uri": "https://localhost:8080/",
          "height": 596
        },
        "id": "tJKR-gCZAJeI",
        "outputId": "9def9c45-7108-40f2-c2d0-50a2ddab7b59"
      },
      "execution_count": 5,
      "outputs": [
        {
          "output_type": "stream",
          "name": "stdout",
          "text": [
            "Number of rows per star rating:\n",
            "5.0    3231628\n",
            "4.0    1452918\n",
            "1.0    1069562\n",
            "3.0     691934\n",
            "2.0     544240\n",
            "Name: stars, dtype: int64\n"
          ]
        },
        {
          "output_type": "display_data",
          "data": {
            "text/plain": [
              "<Figure size 640x480 with 1 Axes>"
            ],
            "image/png": "[encoded data removed]"
          },
          "metadata": {}
        }
      ]
    },
    {
      "cell_type": "code",
      "source": [
        "# Function to retrieve top few number of each category\n",
        "def get_top_data(top_n = 5000):\n",
        "    top_data_df_positive = top_data_df[top_data_df['sentiment'] == 1].head(top_n)\n",
        "    top_data_df_negative = top_data_df[top_data_df['sentiment'] == -1].head(top_n)\n",
        "    top_data_df_neutral = top_data_df[top_data_df['sentiment'] == 0].head(top_n)\n",
        "    top_data_df_small = pd.concat([top_data_df_positive, top_data_df_negative, top_data_df_neutral])\n",
        "    return top_data_df_small\n",
        "\n",
        "# Function call to get the top 10000 from each sentiment\n",
        "top_data_df_small = get_top_data(top_n=10000)\n",
        "\n",
        "# After selecting top few samples of each sentiment\n",
        "print(\"After segregating and taking equal number of rows for each sentiment:\")\n",
        "print(top_data_df_small['sentiment'].value_counts())\n",
        "top_data_df_small.head(10)"
      ],
      "metadata": {
        "colab": {
          "base_uri": "https://localhost:8080/",
          "height": 1000
        },
        "id": "E2bN2Xd3AUvK",
        "outputId": "d6cdd2c1-f334-4e80-a353-ca3b9c484578"
      },
      "execution_count": 6,
      "outputs": [
        {
          "output_type": "stream",
          "name": "stdout",
          "text": [
            "After segregating and taking equal number of rows for each sentiment:\n",
            " 1    10000\n",
            "-1    10000\n",
            " 0    10000\n",
            "Name: sentiment, dtype: int64\n"
          ]
        },
        {
          "output_type": "execute_result",
          "data": {
            "text/plain": [
              "                 review_id                 user_id             business_id  \\\n",
              "0   kMYZUhpyJbdCl8EFO-Rd5Q  NYAJpO24FyjoHvRYC06ztw  KP5OncF2jhT7_J1phHPPww   \n",
              "3   BiTunyQ73aT9WBnpR9DZGw  OyoGAe7OKpv6SyGZT5g77Q  7ATYjTIgM3jUlt4UM3IypQ   \n",
              "5   AqPFMleE6RsU23_auESxiA  _7bHUi9Uuf5__HHc_Q8guQ  kxX2SOes4o-D3ZQBkiMRfA   \n",
              "6   Sx8TMOWLNuJBWer-0pcmoA  bcjbaE6dDog4jkNY91ncLQ  e4Vwtrqf-wpJfwesgvdgxQ   \n",
              "8   6AxgBCNX_PNTOxmbRSwcKQ  r3zeYsv1XFBRA4dJpL78cw  gmjsEdUsKpj9Xxu6pdjH0g   \n",
              "9   _ZeMknuYdlQcUqng_Im3yg  yfFzsLmaWF2d4Sr0UNbBgg  LHSTtnW3YHCeUkRDGyJOyw   \n",
              "12  rGQRf8UafX7OTlMNN19I8A  1WHRWwQmZOZDAhp2Qyny4g  uMvVYRgGNXf5boolA9HXTw   \n",
              "13  l3Wk_mvAog6XANIuGQ9C7Q  ZbqSHbgCjzVAqaa7NKWn5A  EQ-TZ2eeD_E0BHuvoaeG5Q   \n",
              "14  XW_LfMv0fV21l9c6xQd_lw  9OAtfnWag-ajVxRbUTGIyg  lj-E32x9_FA7GmUrBGBEWg   \n",
              "15  8JFGBuHMoiNDyfcxuWNtrA  smOvOajNG0lS4Pq7d8g4JQ  RZtGWDLCAtuipwaZ-UfjmQ   \n",
              "\n",
              "    stars  useful  funny  cool  \\\n",
              "0     5.0     0.0    0.0   0.0   \n",
              "3     5.0     1.0    0.0   1.0   \n",
              "5     5.0     1.0    0.0   1.0   \n",
              "6     4.0     1.0    0.0   1.0   \n",
              "8     5.0     0.0    2.0   0.0   \n",
              "9     5.0     2.0    0.0   0.0   \n",
              "12    5.0     2.0    0.0   0.0   \n",
              "13    4.0     0.0    0.0   0.0   \n",
              "14    4.0     0.0    0.0   0.0   \n",
              "15    4.0     0.0    0.0   0.0   \n",
              "\n",
              "                                                 text                 date  \\\n",
              "0   The food was amazing and Manuel was even bette...  2018-09-07 01:09:10   \n",
              "3   I've taken a lot of spin classes over the year...  2012-01-03 15:28:18   \n",
              "5   Wow!  Yummy, different,  delicious.   Our favo...  2015-01-04 00:01:03   \n",
              "6   Cute interior and owner (?) gave us tour of up...  2017-01-14 20:54:15   \n",
              "8   Loved this tour! I grabbed a groupon and the p...  2015-01-03 23:21:18   \n",
              "9   Amazingly amazing wings and homemade bleu chee...  2015-08-07 02:29:16   \n",
              "12  My experience with Shalimar was nothing but wo...  2015-06-21 14:48:06   \n",
              "13  Locals recommended Milktooth, and it's an amaz...  2015-08-19 14:31:45   \n",
              "14  Love going here for happy hour or dinner!  Gre...  2014-06-27 22:44:01   \n",
              "15  Good food--loved the gnocchi with marinara\\nth...  2009-10-14 19:57:14   \n",
              "\n",
              "    sentiment  \n",
              "0           1  \n",
              "3           1  \n",
              "5           1  \n",
              "6           1  \n",
              "8           1  \n",
              "9           1  \n",
              "12          1  \n",
              "13          1  \n",
              "14          1  \n",
              "15          1  "
            ],
            "text/html": [
              "\n",
              "  <div id=\"df-78c7144c-5fca-497f-b4a3-046628488b99\">\n",
              "    <div class=\"colab-df-container\">\n",
              "      <div>\n",
              "<style scoped>\n",
              "    .dataframe tbody tr th:only-of-type {\n",
              "        vertical-align: middle;\n",
              "    }\n",
              "\n",
              "    .dataframe tbody tr th {\n",
              "        vertical-align: top;\n",
              "    }\n",
              "\n",
              "    .dataframe thead th {\n",
              "        text-align: right;\n",
              "    }\n",
              "</style>\n",
              "<table border=\"1\" class=\"dataframe\">\n",
              "  <thead>\n",
              "    <tr style=\"text-align: right;\">\n",
              "      <th></th>\n",
              "      <th>review_id</th>\n",
              "      <th>user_id</th>\n",
              "      <th>business_id</th>\n",
              "      <th>stars</th>\n",
              "      <th>useful</th>\n",
              "      <th>funny</th>\n",
              "      <th>cool</th>\n",
              "      <th>text</th>\n",
              "      <th>date</th>\n",
              "      <th>sentiment</th>\n",
              "    </tr>\n",
              "  </thead>\n",
              "  <tbody>\n",
              "    <tr>\n",
              "      <th>0</th>\n",
              "      <td>kMYZUhpyJbdCl8EFO-Rd5Q</td>\n",
              "      <td>NYAJpO24FyjoHvRYC06ztw</td>\n",
              "      <td>KP5OncF2jhT7_J1phHPPww</td>\n",
              "      <td>5.0</td>\n",
              "      <td>0.0</td>\n",
              "      <td>0.0</td>\n",
              "      <td>0.0</td>\n",
              "      <td>The food was amazing and Manuel was even bette...</td>\n",
              "      <td>2018-09-07 01:09:10</td>\n",
              "      <td>1</td>\n",
              "    </tr>\n",
              "    <tr>\n",
              "      <th>3</th>\n",
              "      <td>BiTunyQ73aT9WBnpR9DZGw</td>\n",
              "      <td>OyoGAe7OKpv6SyGZT5g77Q</td>\n",
              "      <td>7ATYjTIgM3jUlt4UM3IypQ</td>\n",
              "      <td>5.0</td>\n",
              "      <td>1.0</td>\n",
              "      <td>0.0</td>\n",
              "      <td>1.0</td>\n",
              "      <td>I've taken a lot of spin classes over the year...</td>\n",
              "      <td>2012-01-03 15:28:18</td>\n",
              "      <td>1</td>\n",
              "    </tr>\n",
              "    <tr>\n",
              "      <th>5</th>\n",
              "      <td>AqPFMleE6RsU23_auESxiA</td>\n",
              "      <td>_7bHUi9Uuf5__HHc_Q8guQ</td>\n",
              "      <td>kxX2SOes4o-D3ZQBkiMRfA</td>\n",
              "      <td>5.0</td>\n",
              "      <td>1.0</td>\n",
              "      <td>0.0</td>\n",
              "      <td>1.0</td>\n",
              "      <td>Wow!  Yummy, different,  delicious.   Our favo...</td>\n",
              "      <td>2015-01-04 00:01:03</td>\n",
              "      <td>1</td>\n",
              "    </tr>\n",
              "    <tr>\n",
              "      <th>6</th>\n",
              "      <td>Sx8TMOWLNuJBWer-0pcmoA</td>\n",
              "      <td>bcjbaE6dDog4jkNY91ncLQ</td>\n",
              "      <td>e4Vwtrqf-wpJfwesgvdgxQ</td>\n",
              "      <td>4.0</td>\n",
              "      <td>1.0</td>\n",
              "      <td>0.0</td>\n",
              "      <td>1.0</td>\n",
              "      <td>Cute interior and owner (?) gave us tour of up...</td>\n",
              "      <td>2017-01-14 20:54:15</td>\n",
              "      <td>1</td>\n",
              "    </tr>\n",
              "    <tr>\n",
              "      <th>8</th>\n",
              "      <td>6AxgBCNX_PNTOxmbRSwcKQ</td>\n",
              "      <td>r3zeYsv1XFBRA4dJpL78cw</td>\n",
              "      <td>gmjsEdUsKpj9Xxu6pdjH0g</td>\n",
              "      <td>5.0</td>\n",
              "      <td>0.0</td>\n",
              "      <td>2.0</td>\n",
              "      <td>0.0</td>\n",
              "      <td>Loved this tour! I grabbed a groupon and the p...</td>\n",
              "      <td>2015-01-03 23:21:18</td>\n",
              "      <td>1</td>\n",
              "    </tr>\n",
              "    <tr>\n",
              "      <th>9</th>\n",
              "      <td>_ZeMknuYdlQcUqng_Im3yg</td>\n",
              "      <td>yfFzsLmaWF2d4Sr0UNbBgg</td>\n",
              "      <td>LHSTtnW3YHCeUkRDGyJOyw</td>\n",
              "      <td>5.0</td>\n",
              "      <td>2.0</td>\n",
              "      <td>0.0</td>\n",
              "      <td>0.0</td>\n",
              "      <td>Amazingly amazing wings and homemade bleu chee...</td>\n",
              "      <td>2015-08-07 02:29:16</td>\n",
              "      <td>1</td>\n",
              "    </tr>\n",
              "    <tr>\n",
              "      <th>12</th>\n",
              "      <td>rGQRf8UafX7OTlMNN19I8A</td>\n",
              "      <td>1WHRWwQmZOZDAhp2Qyny4g</td>\n",
              "      <td>uMvVYRgGNXf5boolA9HXTw</td>\n",
              "      <td>5.0</td>\n",
              "      <td>2.0</td>\n",
              "      <td>0.0</td>\n",
              "      <td>0.0</td>\n",
              "      <td>My experience with Shalimar was nothing but wo...</td>\n",
              "      <td>2015-06-21 14:48:06</td>\n",
              "      <td>1</td>\n",
              "    </tr>\n",
              "    <tr>\n",
              "      <th>13</th>\n",
              "      <td>l3Wk_mvAog6XANIuGQ9C7Q</td>\n",
              "      <td>ZbqSHbgCjzVAqaa7NKWn5A</td>\n",
              "      <td>EQ-TZ2eeD_E0BHuvoaeG5Q</td>\n",
              "      <td>4.0</td>\n",
              "      <td>0.0</td>\n",
              "      <td>0.0</td>\n",
              "      <td>0.0</td>\n",
              "      <td>Locals recommended Milktooth, and it's an amaz...</td>\n",
              "      <td>2015-08-19 14:31:45</td>\n",
              "      <td>1</td>\n",
              "    </tr>\n",
              "    <tr>\n",
              "      <th>14</th>\n",
              "      <td>XW_LfMv0fV21l9c6xQd_lw</td>\n",
              "      <td>9OAtfnWag-ajVxRbUTGIyg</td>\n",
              "      <td>lj-E32x9_FA7GmUrBGBEWg</td>\n",
              "      <td>4.0</td>\n",
              "      <td>0.0</td>\n",
              "      <td>0.0</td>\n",
              "      <td>0.0</td>\n",
              "      <td>Love going here for happy hour or dinner!  Gre...</td>\n",
              "      <td>2014-06-27 22:44:01</td>\n",
              "      <td>1</td>\n",
              "    </tr>\n",
              "    <tr>\n",
              "      <th>15</th>\n",
              "      <td>8JFGBuHMoiNDyfcxuWNtrA</td>\n",
              "      <td>smOvOajNG0lS4Pq7d8g4JQ</td>\n",
              "      <td>RZtGWDLCAtuipwaZ-UfjmQ</td>\n",
              "      <td>4.0</td>\n",
              "      <td>0.0</td>\n",
              "      <td>0.0</td>\n",
              "      <td>0.0</td>\n",
              "      <td>Good food--loved the gnocchi with marinara\\nth...</td>\n",
              "      <td>2009-10-14 19:57:14</td>\n",
              "      <td>1</td>\n",
              "    </tr>\n",
              "  </tbody>\n",
              "</table>\n",
              "</div>\n",
              "      <button class=\"colab-df-convert\" onclick=\"convertToInteractive('df-78c7144c-5fca-497f-b4a3-046628488b99')\"\n",
              "              title=\"Convert this dataframe to an interactive table.\"\n",
              "              style=\"display:none;\">\n",
              "        \n",
              "  <svg xmlns=\"http://www.w3.org/2000/svg\" height=\"24px\"viewBox=\"0 0 24 24\"\n",
              "       width=\"24px\">\n",
              "    <path d=\"M0 0h24v24H0V0z\" fill=\"none\"/>\n",
              "    <path d=\"M18.56 5.44l.94 2.06.94-2.06 2.06-.94-2.06-.94-.94-2.06-.94 2.06-2.06.94zm-11 1L8.5 8.5l.94-2.06 2.06-.94-2.06-.94L8.5 2.5l-.94 2.06-2.06.94zm10 10l.94 2.06.94-2.06 2.06-.94-2.06-.94-.94-2.06-.94 2.06-2.06.94z\"/><path d=\"M17.41 7.96l-1.37-1.37c-.4-.4-.92-.59-1.43-.59-.52 0-1.04.2-1.43.59L10.3 9.45l-7.72 7.72c-.78.78-.78 2.05 0 2.83L4 21.41c.39.39.9.59 1.41.59.51 0 1.02-.2 1.41-.59l7.78-7.78 2.81-2.81c.8-.78.8-2.07 0-2.86zM5.41 20L4 18.59l7.72-7.72 1.47 1.35L5.41 20z\"/>\n",
              "  </svg>\n",
              "      </button>\n",
              "      \n",
              "  <style>\n",
              "    .colab-df-container {\n",
              "      display:flex;\n",
              "      flex-wrap:wrap;\n",
              "      gap: 12px;\n",
              "    }\n",
              "\n",
              "    .colab-df-convert {\n",
              "      background-color: #E8F0FE;\n",
              "      border: none;\n",
              "      border-radius: 50%;\n",
              "      cursor: pointer;\n",
              "      display: none;\n",
              "      fill: #1967D2;\n",
              "      height: 32px;\n",
              "      padding: 0 0 0 0;\n",
              "      width: 32px;\n",
              "    }\n",
              "\n",
              "    .colab-df-convert:hover {\n",
              "      background-color: #E2EBFA;\n",
              "      box-shadow: 0px 1px 2px rgba(60, 64, 67, 0.3), 0px 1px 3px 1px rgba(60, 64, 67, 0.15);\n",
              "      fill: #174EA6;\n",
              "    }\n",
              "\n",
              "    [theme=dark] .colab-df-convert {\n",
              "      background-color: #3B4455;\n",
              "      fill: #D2E3FC;\n",
              "    }\n",
              "\n",
              "    [theme=dark] .colab-df-convert:hover {\n",
              "      background-color: #434B5C;\n",
              "      box-shadow: 0px 1px 3px 1px rgba(0, 0, 0, 0.15);\n",
              "      filter: drop-shadow(0px 1px 2px rgba(0, 0, 0, 0.3));\n",
              "      fill: #FFFFFF;\n",
              "    }\n",
              "  </style>\n",
              "\n",
              "      <script>\n",
              "        const buttonEl =\n",
              "          document.querySelector('#df-78c7144c-5fca-497f-b4a3-046628488b99 button.colab-df-convert');\n",
              "        buttonEl.style.display =\n",
              "          google.colab.kernel.accessAllowed ? 'block' : 'none';\n",
              "\n",
              "        async function convertToInteractive(key) {\n",
              "          const element = document.querySelector('#df-78c7144c-5fca-497f-b4a3-046628488b99');\n",
              "          const dataTable =\n",
              "            await google.colab.kernel.invokeFunction('convertToInteractive',\n",
              "                                                     [key], {});\n",
              "          if (!dataTable) return;\n",
              "\n",
              "          const docLinkHtml = 'Like what you see? Visit the ' +\n",
              "            '<a target=\"_blank\" href=https://colab.research.google.com/notebooks/data_table.ipynb>data table notebook</a>'\n",
              "            + ' to learn more about interactive tables.';\n",
              "          element.innerHTML = '';\n",
              "          dataTable['output_type'] = 'display_data';\n",
              "          await google.colab.output.renderOutput(dataTable, element);\n",
              "          const docLink = document.createElement('div');\n",
              "          docLink.innerHTML = docLinkHtml;\n",
              "          element.appendChild(docLink);\n",
              "        }\n",
              "      </script>\n",
              "    </div>\n",
              "  </div>\n",
              "  "
            ]
          },
          "metadata": {},
          "execution_count": 6
        }
      ]
    },
    {
      "cell_type": "code",
      "source": [
        "# Removing the stop words\n",
        "from gensim.parsing.preprocessing import remove_stopwords\n",
        "print(remove_stopwords(\"Restaurant had a really good service!!\"))"
      ],
      "metadata": {
        "colab": {
          "base_uri": "https://localhost:8080/"
        },
        "id": "F9jfna-ndOJx",
        "outputId": "1a49b5e7-b5ce-4a83-f184-1c971ad48cfc"
      },
      "execution_count": null,
      "outputs": [
        {
          "output_type": "stream",
          "name": "stdout",
          "text": [
            "Restaurant good service!!\n"
          ]
        }
      ]
    },
    {
      "cell_type": "code",
      "source": [
        "# Tokenize the text column to get the new column 'tokenized_text'\n",
        "from gensim.utils import simple_preprocess\n",
        "top_data_df_small['tokenized_text'] = [simple_preprocess(line, deacc=True) for line in top_data_df_small['text']] \n",
        "print(top_data_df_small['tokenized_text'].head(10))"
      ],
      "metadata": {
        "colab": {
          "base_uri": "https://localhost:8080/"
        },
        "id": "JUnem3-LddtJ",
        "outputId": "27e7f744-6a6d-43e4-e212-3abc45da6994"
      },
      "execution_count": 7,
      "outputs": [
        {
          "output_type": "stream",
          "name": "stdout",
          "text": [
            "0     [the, food, was, amazing, and, manuel, was, ev...\n",
            "3     [ve, taken, lot, of, spin, classes, over, the,...\n",
            "5     [wow, yummy, different, delicious, our, favori...\n",
            "6     [cute, interior, and, owner, gave, us, tour, o...\n",
            "8     [loved, this, tour, grabbed, groupon, and, the...\n",
            "9     [amazingly, amazing, wings, and, homemade, ble...\n",
            "12    [my, experience, with, shalimar, was, nothing,...\n",
            "13    [locals, recommended, milktooth, and, it, an, ...\n",
            "14    [love, going, here, for, happy, hour, or, dinn...\n",
            "15    [good, food, loved, the, gnocchi, with, marina...\n",
            "Name: tokenized_text, dtype: object\n"
          ]
        }
      ]
    },
    {
      "cell_type": "code",
      "source": [
        "from gensim.parsing.porter import PorterStemmer\n",
        "porter_stemmer = PorterStemmer()\n",
        "# Get the stemmed_tokens\n",
        "top_data_df_small['stemmed_tokens'] = [[porter_stemmer.stem(word) for word in tokens] for tokens in top_data_df_small['tokenized_text'] ]\n",
        "top_data_df_small['stemmed_tokens'].head(10)"
      ],
      "metadata": {
        "colab": {
          "base_uri": "https://localhost:8080/"
        },
        "id": "Pd54E5NNiIxF",
        "outputId": "25c2dddf-ad4e-49e0-817f-14cb8aa742c0"
      },
      "execution_count": 8,
      "outputs": [
        {
          "output_type": "execute_result",
          "data": {
            "text/plain": [
              "0     [the, food, wa, amaz, and, manuel, wa, even, b...\n",
              "3     [ve, taken, lot, of, spin, class, over, the, y...\n",
              "5     [wow, yummi, differ, delici, our, favorit, is,...\n",
              "6     [cute, interior, and, owner, gave, us, tour, o...\n",
              "8     [love, thi, tour, grab, groupon, and, the, pri...\n",
              "9     [amazingli, amaz, wing, and, homemad, bleu, ch...\n",
              "12    [my, experi, with, shalimar, wa, noth, but, wo...\n",
              "13    [local, recommend, milktooth, and, it, an, ama...\n",
              "14    [love, go, here, for, happi, hour, or, dinner,...\n",
              "15    [good, food, love, the, gnocchi, with, marinar...\n",
              "Name: stemmed_tokens, dtype: object"
            ]
          },
          "metadata": {},
          "execution_count": 8
        }
      ]
    },
    {
      "cell_type": "code",
      "source": [
        "from sklearn.model_selection import train_test_split\n",
        "# Train Test Split Function\n",
        "def split_train_test(top_data_df_small, test_size=0.3, shuffle_state=True):\n",
        "    X_train, X_test, Y_train, Y_test = train_test_split(top_data_df_small[['business_id', 'cool', 'date', 'funny', 'review_id', 'stars', 'text', 'useful', 'user_id', 'stemmed_tokens']], \n",
        "                                                        top_data_df_small['sentiment'], \n",
        "                                                        shuffle=shuffle_state,\n",
        "                                                        test_size=test_size, \n",
        "                                                        random_state=15)\n",
        "    print(\"Value counts for Train sentiments\")\n",
        "    print(Y_train.value_counts())\n",
        "    print(\"Value counts for Test sentiments\")\n",
        "    print(Y_test.value_counts())\n",
        "    print(type(X_train))\n",
        "    print(type(Y_train))\n",
        "    X_train = X_train.reset_index()\n",
        "    X_test = X_test.reset_index()\n",
        "    Y_train = Y_train.to_frame()\n",
        "    Y_train = Y_train.reset_index()\n",
        "    Y_test = Y_test.to_frame()\n",
        "    Y_test = Y_test.reset_index()\n",
        "    print(X_train.head())\n",
        "    return X_train, X_test, Y_train, Y_test\n",
        "\n",
        "# Call the train_test_split\n",
        "X_train, X_test, Y_train, Y_test = split_train_test(top_data_df_small)"
      ],
      "metadata": {
        "colab": {
          "base_uri": "https://localhost:8080/"
        },
        "id": "s9MMrQWziMwI",
        "outputId": "abd65b1d-e81d-4887-9f01-862d8da962f4"
      },
      "execution_count": 9,
      "outputs": [
        {
          "output_type": "stream",
          "name": "stdout",
          "text": [
            "Value counts for Train sentiments\n",
            " 1    7036\n",
            "-1    7008\n",
            " 0    6956\n",
            "Name: sentiment, dtype: int64\n",
            "Value counts for Test sentiments\n",
            " 0    3044\n",
            "-1    2992\n",
            " 1    2964\n",
            "Name: sentiment, dtype: int64\n",
            "<class 'pandas.core.frame.DataFrame'>\n",
            "<class 'pandas.core.series.Series'>\n",
            "   index             business_id  cool                 date  funny  \\\n",
            "0  41951  iDtIMWJVIGYspg5JvJKaOw   0.0  2014-09-27 02:05:38    0.0   \n",
            "1  21239  ySXKjndttZjNy3kcqRqG3g   0.0  2015-12-20 20:30:12    0.0   \n",
            "2  43743  RKVZbcCKNcAM5Jk_cV7I9A   0.0  2012-12-07 19:28:37    0.0   \n",
            "3  35109  tvbFcYCEQWc76CUK-nBw8w   0.0  2018-07-27 08:09:21    0.0   \n",
            "4   2960  dyVKL3qKsz_XDxtjpbNcgQ   0.0  2017-06-17 21:49:38    0.0   \n",
            "\n",
            "                review_id  stars  \\\n",
            "0  suarhxr6Xi5e9dIiSgpH1w    2.0   \n",
            "1  XIYnB19-LAI_yzJfB2d7eQ    3.0   \n",
            "2  Lezt-52MnYX3RWYCPGTaaQ    2.0   \n",
            "3  L8Ape_IoEHiMjgiufwCp8Q    3.0   \n",
            "4  m6A-2qqaPq4o70hEE_wn6g    4.0   \n",
            "\n",
            "                                                text  useful  \\\n",
            "0  I was looking forward to this place.  After ea...     1.0   \n",
            "1  I've had the clam chowder here about 5 times. ...     1.0   \n",
            "2  So, I chose to eat at Sage today for lunch and...     1.0   \n",
            "3  Decent Korean barbeque, but subpar cold buckwh...     0.0   \n",
            "4  Service is rarely that great.  Food hits the s...     0.0   \n",
            "\n",
            "                  user_id                                     stemmed_tokens  \n",
            "0  sqKgoo_ifxY4y0w3u2uZwg  [wa, look, forward, to, thi, place, after, eat...  \n",
            "1  Xp3-2ZMn5mxD--SH7mBKag  [ve, had, the, clam, chowder, here, about, tim...  \n",
            "2  pTYEJ8Ig-7I_YQnUmh6U9Q  [so, chose, to, eat, at, sage, todai, for, lun...  \n",
            "3  c9QdM3JbLT5sCwQ4hGcHIQ  [decent, korean, barbequ, but, subpar, cold, b...  \n",
            "4  aJUw1sziC7ts3pXPmCuZ4Q  [servic, is, rare, that, great, food, hit, the...  \n"
          ]
        }
      ]
    },
    {
      "cell_type": "code",
      "source": [
        "from gensim.models import Word2Vec\n",
        "size = 500\n",
        "window = 3\n",
        "min_count = 1\n",
        "workers = 3\n",
        "sg = 1\n",
        "OUTPUT_FOLDER = './OpData'\n",
        "# Function to train word2vec model\n",
        "def make_word2vec_model(top_data_df_small, padding=True, sg=1, min_count=1, size=500, workers=3, window=3):\n",
        "    if  padding:\n",
        "        print(len(top_data_df_small))\n",
        "        temp_df = pd.Series(top_data_df_small['stemmed_tokens']).values\n",
        "        temp_df = list(temp_df)\n",
        "        temp_df.append(['pad'])\n",
        "        word2vec_file = OUTPUT_FOLDER + '/models/'+'word2vec_' + str(size) + '_PAD.model'\n",
        "    else:\n",
        "        temp_df = top_data_df_small['stemmed_tokens']\n",
        "        word2vec_file = OUTPUT_FOLDER + '/models/' + 'word2vec_' + str(size) + '.model'\n",
        "    w2v_model = Word2Vec(temp_df, min_count = min_count, vector_size=size, workers = workers, window = window, sg = sg)\n",
        "\n",
        "    w2v_model.save(word2vec_file)\n",
        "    return w2v_model, word2vec_file\n",
        "\n",
        "# Train Word2vec model\n",
        "w2vmodel, word2vec_file = make_word2vec_model(top_data_df_small, padding=True, sg=sg, min_count=min_count, size=size, workers=workers, window=window)"
      ],
      "metadata": {
        "colab": {
          "base_uri": "https://localhost:8080/"
        },
        "id": "yXCIL6UOj_a7",
        "outputId": "d942a0c2-19bb-4346-9520-47e35ad17889"
      },
      "execution_count": 10,
      "outputs": [
        {
          "output_type": "stream",
          "name": "stdout",
          "text": [
            "30000\n"
          ]
        }
      ]
    },
    {
      "cell_type": "code",
      "source": [
        "max_sen_len = top_data_df_small.stemmed_tokens.map(len).max()\n",
        "padding_idx = w2vmodel.wv.key_to_index['pad']\n",
        "def make_word2vec_vector_cnn(sentence):\n",
        "    padded_X = [padding_idx for i in range(max_sen_len)]\n",
        "    i = 0\n",
        "    for word in sentence:\n",
        "        if word not in w2vmodel.wv.key_to_index:\n",
        "            padded_X[i] = 0\n",
        "            print(word)\n",
        "        else:\n",
        "            padded_X[i] = w2vmodel.wv.key_to_index[word]\n",
        "        i += 1\n",
        "    return torch.tensor(padded_X, dtype=torch.long, device=device).view(1, -1)"
      ],
      "metadata": {
        "id": "ZjTXzlwllohM"
      },
      "execution_count": 11,
      "outputs": []
    },
    {
      "cell_type": "code",
      "source": [
        "# Function to get the output tensor\n",
        "def make_target(label):\n",
        "    if label == -1:\n",
        "        return torch.tensor([0], dtype=torch.long, device=device)\n",
        "    elif label == 0:\n",
        "        return torch.tensor([1], dtype=torch.long, device=device)\n",
        "    else:\n",
        "        return torch.tensor([2], dtype=torch.long, device=device)"
      ],
      "metadata": {
        "id": "WVyWDx0m6eJB"
      },
      "execution_count": 12,
      "outputs": []
    },
    {
      "cell_type": "code",
      "source": [
        "EMBEDDING_SIZE = 500\n",
        "NUM_FILTERS = 10\n",
        "\n",
        "class CnnTextClassifier(nn.Module):\n",
        "    def __init__(self, vocab_size, num_classes, window_sizes=(1,2,3,5)):\n",
        "        super(CnnTextClassifier, self).__init__()\n",
        "        w2vmodel = gensim.models.KeyedVectors.load(OUTPUT_FOLDER + '/models/' + 'word2vec_500_PAD.model')\n",
        "        weights = w2vmodel.wv\n",
        "        # With pretrained embeddings\n",
        "        self.embedding = nn.Embedding.from_pretrained(torch.FloatTensor(weights.vectors), padding_idx=w2vmodel.wv.key_to_index['pad'])\n",
        "        # Without pretrained embeddings\n",
        "        # self.embedding = nn.Embedding(vocab_size, EMBEDDING_SIZE)\n",
        "\n",
        "        self.convs = nn.ModuleList([\n",
        "                                   nn.Conv2d(1, NUM_FILTERS, [window_size, EMBEDDING_SIZE], padding=(window_size - 1, 0))\n",
        "                                   for window_size in window_sizes\n",
        "        ])\n",
        "\n",
        "        self.fc = nn.Linear(NUM_FILTERS * len(window_sizes), num_classes)\n",
        "\n",
        "    def forward(self, x):\n",
        "        x = self.embedding(x) # [B, T, E]\n",
        "\n",
        "        # Apply a convolution + max_pool layer for each window size\n",
        "        x = torch.unsqueeze(x, 1)\n",
        "        xs = []\n",
        "        for conv in self.convs:\n",
        "            x2 = torch.tanh(conv(x))\n",
        "            x2 = torch.squeeze(x2, -1)\n",
        "            x2 = F.max_pool1d(x2, x2.size(2))\n",
        "            xs.append(x2)\n",
        "        x = torch.cat(xs, 2)\n",
        "\n",
        "        # FC\n",
        "        x = x.view(x.size(0), -1)\n",
        "        logits = self.fc(x)\n",
        "\n",
        "        probs = F.softmax(logits, dim = 1)\n",
        "\n",
        "        return probs"
      ],
      "metadata": {
        "id": "xjIpl-5B6nzV"
      },
      "execution_count": 13,
      "outputs": []
    },
    {
      "cell_type": "code",
      "source": [
        "NUM_CLASSES = 3\n",
        "vocab_len = len(w2vmodel.wv)\n",
        "\n",
        "cnn_model = CnnTextClassifier(vocab_size=vocab_len, num_classes=NUM_CLASSES)\n",
        "cnn_model.to(device)\n",
        "loss_function = nn.CrossEntropyLoss()\n",
        "optimizer = optim.Adam(cnn_model.parameters(), lr=0.001)\n",
        "num_epochs = 30\n",
        "\n",
        "# Open the file for writing loss\n",
        "loss_file_name = OUTPUT_FOLDER +  '/plots/' + 'cnn_class_big_loss_with_padding.csv'\n",
        "f = open(loss_file_name,'w')\n",
        "f.write('iter, loss')\n",
        "f.write('\\n')\n",
        "losses = []\n",
        "cnn_model.train()\n",
        "for epoch in range(num_epochs):\n",
        "    print(\"Epoch\" + str(epoch + 1))\n",
        "    train_loss = 0\n",
        "    for index, row in X_train.iterrows():\n",
        "        # Clearing the accumulated gradients\n",
        "        cnn_model.zero_grad()\n",
        "\n",
        "        # Make the bag of words vector for stemmed tokens \n",
        "        bow_vec = make_word2vec_vector_cnn(row['stemmed_tokens'])\n",
        "       \n",
        "        # Forward pass to get output\n",
        "        probs = cnn_model(bow_vec)\n",
        "\n",
        "        # Get the target label\n",
        "        target = make_target(Y_train['sentiment'][index])\n",
        "\n",
        "        # Calculate Loss: softmax --> cross entropy loss\n",
        "        loss = loss_function(probs, target)\n",
        "        train_loss += loss.item()\n",
        "\n",
        "        # Getting gradients w.r.t. parameters\n",
        "        loss.backward()\n",
        "\n",
        "        # Updating parameters\n",
        "        optimizer.step()\n",
        "\n",
        "\n",
        "    # if index == 0:\n",
        "    #     continue\n",
        "    print(\"Epoch ran :\"+ str(epoch+1))\n",
        "    f.write(str((epoch+1)) + \",\" + str(train_loss / len(X_train)))\n",
        "    f.write('\\n')\n",
        "    train_loss = 0\n",
        "\n",
        "torch.save(cnn_model, OUTPUT_FOLDER +'/' +'cnn_big_model_500_with_padding.pth')\n",
        "\n",
        "f.close()\n",
        "print(\"Input vector\")\n",
        "print(bow_vec.cpu().numpy())\n",
        "print(\"Probs\")\n",
        "print(probs)\n",
        "print(torch.argmax(probs, dim=1).cpu().numpy()[0])"
      ],
      "metadata": {
        "colab": {
          "base_uri": "https://localhost:8080/"
        },
        "id": "BYSsT6Kc6w1F",
        "outputId": "d40036ac-a5a4-41ff-8d41-5aeabdf57565"
      },
      "execution_count": 19,
      "outputs": [
        {
          "output_type": "stream",
          "name": "stdout",
          "text": [
            "Epoch1\n",
            "Epoch ran :1\n",
            "Epoch2\n",
            "Epoch ran :2\n",
            "Epoch3\n",
            "Epoch ran :3\n",
            "Epoch4\n",
            "Epoch ran :4\n",
            "Epoch5\n",
            "Epoch ran :5\n",
            "Epoch6\n",
            "Epoch ran :6\n",
            "Epoch7\n",
            "Epoch ran :7\n",
            "Epoch8\n",
            "Epoch ran :8\n",
            "Epoch9\n",
            "Epoch ran :9\n",
            "Epoch10\n",
            "Epoch ran :10\n",
            "Epoch11\n",
            "Epoch ran :11\n",
            "Epoch12\n",
            "Epoch ran :12\n",
            "Epoch13\n",
            "Epoch ran :13\n",
            "Epoch14\n",
            "Epoch ran :14\n",
            "Epoch15\n",
            "Epoch ran :15\n",
            "Epoch16\n",
            "Epoch ran :16\n",
            "Epoch17\n",
            "Epoch ran :17\n",
            "Epoch18\n",
            "Epoch ran :18\n",
            "Epoch19\n",
            "Epoch ran :19\n",
            "Epoch20\n",
            "Epoch ran :20\n",
            "Epoch21\n",
            "Epoch ran :21\n",
            "Epoch22\n",
            "Epoch ran :22\n",
            "Epoch23\n",
            "Epoch ran :23\n",
            "Epoch24\n",
            "Epoch ran :24\n",
            "Epoch25\n",
            "Epoch ran :25\n",
            "Epoch26\n",
            "Epoch ran :26\n",
            "Epoch27\n",
            "Epoch ran :27\n",
            "Epoch28\n",
            "Epoch ran :28\n",
            "Epoch29\n",
            "Epoch ran :29\n",
            "Epoch30\n",
            "Epoch ran :30\n",
            "Input vector\n",
            "[[  297    42   236   171     0    32     2   173    47   341   789     1\n",
            "  10518   108   275    62     2  1877   108   282     2   877    36   647\n",
            "     31  2320  1654   196     1   254     3   201    53     0  1720   166\n",
            "     31     0   201   991   246    15   263     1   506   467  1189     0\n",
            "     44    22     0    74     7   219    30  5959  1113  1113  1113  1113\n",
            "   1113  1113  1113  1113  1113  1113  1113  1113  1113  1113  1113  1113\n",
            "   1113  1113  1113  1113  1113  1113  1113  1113  1113  1113  1113  1113\n",
            "   1113  1113  1113  1113  1113  1113  1113  1113  1113  1113  1113  1113\n",
            "   1113  1113  1113  1113  1113  1113  1113  1113  1113  1113  1113  1113\n",
            "   1113  1113  1113  1113  1113  1113  1113  1113  1113  1113  1113  1113\n",
            "   1113  1113  1113  1113  1113  1113  1113  1113  1113  1113  1113  1113\n",
            "   1113  1113  1113  1113  1113  1113  1113  1113  1113  1113  1113  1113\n",
            "   1113  1113  1113  1113  1113  1113  1113  1113  1113  1113  1113  1113\n",
            "   1113  1113  1113  1113  1113  1113  1113  1113  1113  1113  1113  1113\n",
            "   1113  1113  1113  1113  1113  1113  1113  1113  1113  1113  1113  1113\n",
            "   1113  1113  1113  1113  1113  1113  1113  1113  1113  1113  1113  1113\n",
            "   1113  1113  1113  1113  1113  1113  1113  1113  1113  1113  1113  1113\n",
            "   1113  1113  1113  1113  1113  1113  1113  1113  1113  1113  1113  1113\n",
            "   1113  1113  1113  1113  1113  1113  1113  1113  1113  1113  1113  1113\n",
            "   1113  1113  1113  1113  1113  1113  1113  1113  1113  1113  1113  1113\n",
            "   1113  1113  1113  1113  1113  1113  1113  1113  1113  1113  1113  1113\n",
            "   1113  1113  1113  1113  1113  1113  1113  1113  1113  1113  1113  1113\n",
            "   1113  1113  1113  1113  1113  1113  1113  1113  1113  1113  1113  1113\n",
            "   1113  1113  1113  1113  1113  1113  1113  1113  1113  1113  1113  1113\n",
            "   1113  1113  1113  1113  1113  1113  1113  1113  1113  1113  1113  1113\n",
            "   1113  1113  1113  1113  1113  1113  1113  1113  1113  1113  1113  1113\n",
            "   1113  1113  1113  1113  1113  1113  1113  1113  1113  1113  1113  1113\n",
            "   1113  1113  1113  1113  1113  1113  1113  1113  1113  1113  1113  1113\n",
            "   1113  1113  1113  1113  1113  1113  1113  1113  1113  1113  1113  1113\n",
            "   1113  1113  1113  1113  1113  1113  1113  1113  1113  1113  1113  1113\n",
            "   1113  1113  1113  1113  1113  1113  1113  1113  1113  1113  1113  1113\n",
            "   1113  1113  1113  1113  1113  1113  1113  1113  1113  1113  1113  1113\n",
            "   1113  1113  1113  1113  1113  1113  1113  1113  1113  1113  1113  1113\n",
            "   1113  1113  1113  1113  1113  1113  1113  1113  1113  1113  1113  1113\n",
            "   1113  1113  1113  1113  1113  1113  1113  1113  1113  1113  1113  1113\n",
            "   1113  1113  1113  1113  1113  1113  1113  1113  1113  1113  1113  1113\n",
            "   1113  1113  1113  1113  1113  1113  1113  1113  1113  1113  1113  1113\n",
            "   1113  1113  1113  1113  1113  1113  1113  1113  1113  1113  1113  1113\n",
            "   1113  1113  1113  1113  1113  1113  1113  1113  1113  1113  1113  1113\n",
            "   1113  1113  1113  1113  1113  1113  1113  1113  1113  1113  1113  1113\n",
            "   1113  1113  1113  1113  1113  1113  1113  1113  1113  1113  1113  1113\n",
            "   1113  1113  1113  1113  1113  1113  1113  1113  1113  1113  1113  1113\n",
            "   1113  1113  1113  1113  1113  1113  1113  1113  1113  1113  1113  1113\n",
            "   1113  1113  1113  1113  1113  1113  1113  1113  1113  1113  1113  1113\n",
            "   1113  1113  1113  1113  1113  1113  1113  1113  1113  1113  1113  1113\n",
            "   1113  1113  1113  1113  1113  1113  1113  1113  1113  1113  1113  1113\n",
            "   1113  1113  1113  1113  1113  1113  1113  1113  1113  1113  1113  1113\n",
            "   1113  1113  1113  1113  1113  1113  1113  1113  1113  1113  1113  1113\n",
            "   1113  1113  1113  1113  1113  1113  1113  1113  1113  1113  1113  1113\n",
            "   1113  1113  1113  1113  1113  1113  1113  1113  1113  1113  1113  1113\n",
            "   1113  1113  1113  1113  1113  1113  1113  1113  1113  1113  1113  1113\n",
            "   1113  1113  1113  1113  1113  1113  1113  1113  1113  1113  1113  1113\n",
            "   1113  1113  1113  1113  1113  1113  1113  1113  1113  1113  1113  1113\n",
            "   1113  1113  1113  1113  1113  1113  1113  1113  1113  1113  1113  1113\n",
            "   1113  1113  1113  1113  1113  1113  1113  1113  1113  1113  1113  1113\n",
            "   1113  1113  1113  1113  1113  1113  1113  1113  1113  1113  1113  1113\n",
            "   1113  1113  1113  1113  1113  1113  1113  1113  1113  1113  1113  1113\n",
            "   1113  1113  1113  1113  1113  1113  1113  1113  1113  1113  1113  1113\n",
            "   1113  1113  1113  1113  1113  1113  1113  1113  1113  1113  1113  1113\n",
            "   1113  1113  1113  1113  1113  1113  1113  1113  1113  1113  1113  1113\n",
            "   1113  1113  1113  1113  1113  1113  1113  1113  1113  1113  1113  1113\n",
            "   1113  1113  1113  1113  1113  1113  1113  1113  1113  1113  1113  1113\n",
            "   1113  1113  1113  1113  1113  1113  1113  1113  1113  1113  1113  1113\n",
            "   1113  1113  1113  1113  1113  1113  1113  1113  1113  1113  1113  1113\n",
            "   1113  1113  1113  1113  1113  1113  1113  1113  1113  1113  1113  1113\n",
            "   1113  1113  1113  1113  1113  1113  1113  1113  1113  1113  1113  1113\n",
            "   1113  1113  1113  1113  1113  1113  1113  1113  1113  1113  1113  1113\n",
            "   1113  1113  1113  1113  1113  1113  1113  1113  1113  1113  1113  1113\n",
            "   1113  1113  1113  1113  1113  1113  1113  1113  1113  1113  1113  1113\n",
            "   1113  1113  1113  1113  1113  1113  1113  1113  1113  1113  1113  1113\n",
            "   1113  1113  1113  1113  1113  1113  1113  1113  1113  1113  1113  1113\n",
            "   1113  1113  1113  1113  1113  1113  1113  1113  1113  1113  1113  1113\n",
            "   1113  1113  1113  1113  1113  1113  1113  1113  1113  1113  1113  1113\n",
            "   1113  1113  1113  1113  1113  1113  1113  1113  1113  1113  1113  1113\n",
            "   1113  1113  1113  1113  1113  1113  1113  1113  1113  1113  1113  1113\n",
            "   1113  1113  1113  1113  1113  1113  1113  1113  1113  1113  1113  1113\n",
            "   1113  1113  1113  1113  1113  1113  1113  1113  1113  1113  1113  1113\n",
            "   1113  1113  1113]]\n",
            "Probs\n",
            "tensor([[2.3248e-31, 2.0296e-20, 1.0000e+00]], device='cuda:0',\n",
            "       grad_fn=<SoftmaxBackward0>)\n",
            "2\n"
          ]
        }
      ]
    },
    {
      "cell_type": "code",
      "source": [
        "from prettytable import PrettyTable\n",
        "def count_parameters(model):\n",
        "    table = PrettyTable([\"Modules\", \"Parameters\"])\n",
        "    total_params = 0\n",
        "    for name, parameter in model.named_parameters():\n",
        "        if not parameter.requires_grad: continue\n",
        "        params = parameter.numel()\n",
        "        table.add_row([name, params])\n",
        "        total_params+=params\n",
        "    print(table)\n",
        "    print(f\"Total Trainable Params: {total_params}\")\n",
        "    return total_params\n",
        "\n",
        "count_parameters(cnn_model)"
      ],
      "metadata": {
        "colab": {
          "base_uri": "https://localhost:8080/"
        },
        "id": "87bY3I3CMBKA",
        "outputId": "04f90cb4-3aaa-47c1-dc1e-e629f8f7fcea"
      },
      "execution_count": 20,
      "outputs": [
        {
          "output_type": "stream",
          "name": "stdout",
          "text": [
            "+----------------+------------+\n",
            "|    Modules     | Parameters |\n",
            "+----------------+------------+\n",
            "| convs.0.weight |    5000    |\n",
            "|  convs.0.bias  |     10     |\n",
            "| convs.1.weight |   10000    |\n",
            "|  convs.1.bias  |     10     |\n",
            "| convs.2.weight |   15000    |\n",
            "|  convs.2.bias  |     10     |\n",
            "| convs.3.weight |   25000    |\n",
            "|  convs.3.bias  |     10     |\n",
            "|   fc.weight    |    120     |\n",
            "|    fc.bias     |     3      |\n",
            "+----------------+------------+\n",
            "Total Trainable Params: 55163\n"
          ]
        },
        {
          "output_type": "execute_result",
          "data": {
            "text/plain": [
              "55163"
            ]
          },
          "metadata": {},
          "execution_count": 20
        }
      ]
    },
    {
      "cell_type": "code",
      "source": [
        "from sklearn.metrics import classification_report\n",
        "bow_cnn_predictions = []\n",
        "original_lables_cnn_bow = []\n",
        "cnn_model.eval()\n",
        "loss_df = pd.read_csv(OUTPUT_FOLDER + '/plots/'+'cnn_class_big_loss_with_padding.csv')\n",
        "print(loss_df.columns)\n",
        "# loss_df.plot('loss')\n",
        "with torch.no_grad():\n",
        "    for index, row in X_test.iterrows():\n",
        "        bow_vec = make_word2vec_vector_cnn(row['stemmed_tokens'])\n",
        "        probs = cnn_model(bow_vec)\n",
        "        _, predicted = torch.max(probs.data, 1)\n",
        "        bow_cnn_predictions.append(predicted.cpu().numpy()[0])\n",
        "        original_lables_cnn_bow.append(make_target(Y_test['sentiment'][index]).cpu().numpy()[0])\n",
        "print(classification_report(original_lables_cnn_bow,bow_cnn_predictions))\n",
        "loss_file_name = OUTPUT_FOLDER +  '/plots/' + 'cnn_class_big_loss_with_padding.csv'\n",
        "loss_df = pd.read_csv(loss_file_name)\n",
        "print(loss_df.columns)\n",
        "plt_500_padding_30_epochs = loss_df[' loss'].plot()\n",
        "fig = plt_500_padding_30_epochs.get_figure()\n",
        "fig.savefig(OUTPUT_FOLDER +'/plots/' + 'loss_plt_500_padding_30_epochs.pdf')\n"
      ],
      "metadata": {
        "colab": {
          "base_uri": "https://localhost:8080/",
          "height": 644
        },
        "id": "FvjcqzF5Fn0k",
        "outputId": "e28be72a-602f-4eee-c8f5-9d5a76245cc6"
      },
      "execution_count": 21,
      "outputs": [
        {
          "output_type": "stream",
          "name": "stdout",
          "text": [
            "Index(['iter', ' loss'], dtype='object')\n",
            "              precision    recall  f1-score   support\n",
            "\n",
            "           0       0.78      0.72      0.75      2992\n",
            "           1       0.62      0.61      0.61      3044\n",
            "           2       0.74      0.82      0.78      2964\n",
            "\n",
            "    accuracy                           0.72      9000\n",
            "   macro avg       0.72      0.72      0.71      9000\n",
            "weighted avg       0.71      0.72      0.71      9000\n",
            "\n",
            "Index(['iter', ' loss'], dtype='object')\n"
          ]
        },
        {
          "output_type": "display_data",
          "data": {
            "text/plain": [
              "<Figure size 640x480 with 1 Axes>"
            ],
            "image/png": "[encoded data removed]"
          },
          "metadata": {}
        }
      ]
    }
  ]
}